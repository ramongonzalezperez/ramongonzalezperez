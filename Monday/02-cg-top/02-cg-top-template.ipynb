{
  "cells": [
    {
      "cell_type": "markdown",
      "id": "0318258a-1897-4e0e-95ac-4e632999a10f",
      "metadata": {
        "id": "0318258a-1897-4e0e-95ac-4e632999a10f"
      },
      "source": [
        "## Boilerplate Code"
      ]
    },
    {
      "cell_type": "code",
      "execution_count": 1,
      "id": "xnhjMM8iK446",
      "metadata": {
        "id": "xnhjMM8iK446",
        "colab": {
          "base_uri": "https://localhost:8080/"
        },
        "outputId": "e8c842be-c011-40b3-e829-30310d3fc8d8"
      },
      "outputs": [
        {
          "output_type": "stream",
          "name": "stdout",
          "text": [
            "Cloning into 'Monday-CG'...\n",
            "remote: Enumerating objects: 158, done.\u001b[K\n",
            "remote: Counting objects: 100% (34/34), done.\u001b[K\n",
            "remote: Compressing objects: 100% (24/24), done.\u001b[K\n",
            "remote: Total 158 (delta 18), reused 26 (delta 10), pack-reused 124 (from 1)\u001b[K\n",
            "Receiving objects: 100% (158/158), 174.99 MiB | 25.89 MiB/s, done.\n",
            "Resolving deltas: 100% (65/65), done.\n",
            "Updating files: 100% (47/47), done.\n",
            "⏬ Downloading https://github.com/jaimergp/miniforge/releases/download/24.11.2-1_colab/Miniforge3-colab-24.11.2-1_colab-Linux-x86_64.sh...\n",
            "📦 Installing...\n",
            "📌 Adjusting configuration...\n",
            "🩹 Patching environment...\n",
            "⏲ Done in 0:00:14\n",
            "🔁 Restarting kernel...\n"
          ]
        }
      ],
      "source": [
        "# This cell is only needed on Google Colab\n",
        "!pip install -q condacolab\n",
        "!git clone https://github.com/icomse/11th_workshop_mesoscale_modeling.git Monday-CG\n",
        "import condacolab\n",
        "condacolab.install()"
      ]
    },
    {
      "cell_type": "code",
      "execution_count": 1,
      "id": "r2MDHI00L9P0",
      "metadata": {
        "id": "r2MDHI00L9P0"
      },
      "outputs": [],
      "source": [
        "# This cell is only needed on Google Colab\n",
        "%%capture\n",
        "!conda install scipy matplotlib numpy gsd fresnel hoomd\n",
        "import os\n",
        "os.chdir(\"Monday-CG\")"
      ]
    },
    {
      "cell_type": "markdown",
      "id": "18b73f96-a722-4696-a290-d140ae4fcfcb",
      "metadata": {
        "id": "18b73f96-a722-4696-a290-d140ae4fcfcb"
      },
      "source": [
        "This is code to import packages set up some behavior in this notebook. You can safely ignore it."
      ]
    },
    {
      "cell_type": "code",
      "execution_count": 2,
      "id": "f62eb1b9-47fe-4735-b083-0341325bf2ec",
      "metadata": {
        "id": "f62eb1b9-47fe-4735-b083-0341325bf2ec"
      },
      "outputs": [],
      "source": [
        "import hoomd\n",
        "import matplotlib\n",
        "import numpy\n",
        "import gsd, gsd.hoomd\n",
        "import itertools\n",
        "%matplotlib inline\n",
        "matplotlib.style.use(\"ggplot\")\n",
        "import matplotlib_inline\n",
        "\n",
        "matplotlib_inline.backend_inline.set_matplotlib_formats(\"svg\")"
      ]
    },
    {
      "cell_type": "markdown",
      "id": "969641fc-34ac-42f7-8e8d-2761d46a21aa",
      "metadata": {
        "id": "969641fc-34ac-42f7-8e8d-2761d46a21aa"
      },
      "source": [
        "# Top-down Coarse graining"
      ]
    },
    {
      "cell_type": "markdown",
      "id": "7c9937da-77b0-442c-8913-a4974536974e",
      "metadata": {
        "id": "7c9937da-77b0-442c-8913-a4974536974e"
      },
      "source": [
        "## Plot Potential and Force\n",
        "\n",
        "We will use the LJ potential as an example: https://hoomd-blue.readthedocs.io/en/stable/hoomd/md/pair/lj.html#hoomd.md.pair.LJ. Write functions that compute the pair potential $V$=`V_lj` and the force $F$=`F_lj` between two particles as function of distance `r`. Then plot these functions:"
      ]
    },
    {
      "cell_type": "code",
      "execution_count": 13,
      "id": "1ed3c3ef-c3f6-45cf-a9c7-e25fc3224524",
      "metadata": {
        "id": "1ed3c3ef-c3f6-45cf-a9c7-e25fc3224524",
        "colab": {
          "base_uri": "https://localhost:8080/",
          "height": 443
        },
        "outputId": "1b5e9ab7-ffa7-43cb-b881-acca3c600b86"
      },
      "outputs": [
        {
          "output_type": "display_data",
          "data": {
            "text/plain": [
              "<Figure size 640x480 with 2 Axes>"
            ],
            "image/svg+xml": "<?xml version=\"1.0\" encoding=\"utf-8\" standalone=\"no\"?>\n<!DOCTYPE svg PUBLIC \"-//W3C//DTD SVG 1.1//EN\"\n  \"http://www.w3.org/Graphics/SVG/1.1/DTD/svg11.dtd\">\n<svg xmlns:xlink=\"http://www.w3.org/1999/xlink\" width=\"418.416562pt\" height=\"316.603094pt\" viewBox=\"0 0 418.416562 316.603094\" xmlns=\"http://www.w3.org/2000/svg\" version=\"1.1\">\n <metadata>\n  <rdf:RDF xmlns:dc=\"http://purl.org/dc/elements/1.1/\" xmlns:cc=\"http://creativecommons.org/ns#\" xmlns:rdf=\"http://www.w3.org/1999/02/22-rdf-syntax-ns#\">\n   <cc:Work>\n    <dc:type rdf:resource=\"http://purl.org/dc/dcmitype/StillImage\"/>\n    <dc:date>2025-07-21T19:29:43.166476</dc:date>\n    <dc:format>image/svg+xml</dc:format>\n    <dc:creator>\n     <cc:Agent>\n      <dc:title>Matplotlib v3.10.0, https://matplotlib.org/</dc:title>\n     </cc:Agent>\n    </dc:creator>\n   </cc:Work>\n  </rdf:RDF>\n </metadata>\n <defs>\n  <style type=\"text/css\">*{stroke-linejoin: round; stroke-linecap: butt}</style>\n </defs>\n <g id=\"figure_1\">\n  <g id=\"patch_1\">\n   <path d=\"M 0 316.603094 \nL 418.416562 316.603094 \nL 418.416562 0 \nL 0 0 \nz\n\" style=\"fill: #ffffff\"/>\n  </g>\n  <g id=\"axes_1\">\n   <g id=\"patch_2\">\n    <path d=\"M 54.096563 131.959219 \nL 411.216563 131.959219 \nL 411.216563 10.999219 \nL 54.096563 10.999219 \nz\n\" style=\"fill: #e5e5e5\"/>\n   </g>\n   <g id=\"matplotlib.axis_1\">\n    <g id=\"xtick_1\">\n     <g id=\"line2d_1\">\n      <path d=\"M 78.247693 131.959219 \nL 78.247693 10.999219 \n\" clip-path=\"url(#p97a9ba20ff)\" style=\"fill: none; stroke: #ffffff; stroke-width: 0.8; stroke-linecap: square\"/>\n     </g>\n     <g id=\"line2d_2\">\n      <defs>\n       <path id=\"ma1fd3c2bdb\" d=\"M 0 0 \nL 0 3.5 \n\" style=\"stroke: #555555; stroke-width: 0.8\"/>\n      </defs>\n      <g>\n       <use xlink:href=\"#ma1fd3c2bdb\" x=\"78.247693\" y=\"131.959219\" style=\"fill: #555555; stroke: #555555; stroke-width: 0.8\"/>\n      </g>\n     </g>\n     <g id=\"text_1\">\n      <!-- 1.0 -->\n      <g style=\"fill: #555555\" transform=\"translate(70.296131 146.557656) scale(0.1 -0.1)\">\n       <defs>\n        <path id=\"DejaVuSans-31\" d=\"M 794 531 \nL 1825 531 \nL 1825 4091 \nL 703 3866 \nL 703 4441 \nL 1819 4666 \nL 2450 4666 \nL 2450 531 \nL 3481 531 \nL 3481 0 \nL 794 0 \nL 794 531 \nz\n\" transform=\"scale(0.015625)\"/>\n        <path id=\"DejaVuSans-2e\" d=\"M 684 794 \nL 1344 794 \nL 1344 0 \nL 684 0 \nL 684 794 \nz\n\" transform=\"scale(0.015625)\"/>\n        <path id=\"DejaVuSans-30\" d=\"M 2034 4250 \nQ 1547 4250 1301 3770 \nQ 1056 3291 1056 2328 \nQ 1056 1369 1301 889 \nQ 1547 409 2034 409 \nQ 2525 409 2770 889 \nQ 3016 1369 3016 2328 \nQ 3016 3291 2770 3770 \nQ 2525 4250 2034 4250 \nz\nM 2034 4750 \nQ 2819 4750 3233 4129 \nQ 3647 3509 3647 2328 \nQ 3647 1150 3233 529 \nQ 2819 -91 2034 -91 \nQ 1250 -91 836 529 \nQ 422 1150 422 2328 \nQ 422 3509 836 4129 \nQ 1250 4750 2034 4750 \nz\n\" transform=\"scale(0.015625)\"/>\n       </defs>\n       <use xlink:href=\"#DejaVuSans-31\"/>\n       <use xlink:href=\"#DejaVuSans-2e\" transform=\"translate(63.623047 0)\"/>\n       <use xlink:href=\"#DejaVuSans-30\" transform=\"translate(95.410156 0)\"/>\n      </g>\n     </g>\n    </g>\n    <g id=\"xtick_2\">\n     <g id=\"line2d_3\">\n      <path d=\"M 157.431729 131.959219 \nL 157.431729 10.999219 \n\" clip-path=\"url(#p97a9ba20ff)\" style=\"fill: none; stroke: #ffffff; stroke-width: 0.8; stroke-linecap: square\"/>\n     </g>\n     <g id=\"line2d_4\">\n      <g>\n       <use xlink:href=\"#ma1fd3c2bdb\" x=\"157.431729\" y=\"131.959219\" style=\"fill: #555555; stroke: #555555; stroke-width: 0.8\"/>\n      </g>\n     </g>\n     <g id=\"text_2\">\n      <!-- 1.5 -->\n      <g style=\"fill: #555555\" transform=\"translate(149.480166 146.557656) scale(0.1 -0.1)\">\n       <defs>\n        <path id=\"DejaVuSans-35\" d=\"M 691 4666 \nL 3169 4666 \nL 3169 4134 \nL 1269 4134 \nL 1269 2991 \nQ 1406 3038 1543 3061 \nQ 1681 3084 1819 3084 \nQ 2600 3084 3056 2656 \nQ 3513 2228 3513 1497 \nQ 3513 744 3044 326 \nQ 2575 -91 1722 -91 \nQ 1428 -91 1123 -41 \nQ 819 9 494 109 \nL 494 744 \nQ 775 591 1075 516 \nQ 1375 441 1709 441 \nQ 2250 441 2565 725 \nQ 2881 1009 2881 1497 \nQ 2881 1984 2565 2268 \nQ 2250 2553 1709 2553 \nQ 1456 2553 1204 2497 \nQ 953 2441 691 2322 \nL 691 4666 \nz\n\" transform=\"scale(0.015625)\"/>\n       </defs>\n       <use xlink:href=\"#DejaVuSans-31\"/>\n       <use xlink:href=\"#DejaVuSans-2e\" transform=\"translate(63.623047 0)\"/>\n       <use xlink:href=\"#DejaVuSans-35\" transform=\"translate(95.410156 0)\"/>\n      </g>\n     </g>\n    </g>\n    <g id=\"xtick_3\">\n     <g id=\"line2d_5\">\n      <path d=\"M 236.615764 131.959219 \nL 236.615764 10.999219 \n\" clip-path=\"url(#p97a9ba20ff)\" style=\"fill: none; stroke: #ffffff; stroke-width: 0.8; stroke-linecap: square\"/>\n     </g>\n     <g id=\"line2d_6\">\n      <g>\n       <use xlink:href=\"#ma1fd3c2bdb\" x=\"236.615764\" y=\"131.959219\" style=\"fill: #555555; stroke: #555555; stroke-width: 0.8\"/>\n      </g>\n     </g>\n     <g id=\"text_3\">\n      <!-- 2.0 -->\n      <g style=\"fill: #555555\" transform=\"translate(228.664202 146.557656) scale(0.1 -0.1)\">\n       <defs>\n        <path id=\"DejaVuSans-32\" d=\"M 1228 531 \nL 3431 531 \nL 3431 0 \nL 469 0 \nL 469 531 \nQ 828 903 1448 1529 \nQ 2069 2156 2228 2338 \nQ 2531 2678 2651 2914 \nQ 2772 3150 2772 3378 \nQ 2772 3750 2511 3984 \nQ 2250 4219 1831 4219 \nQ 1534 4219 1204 4116 \nQ 875 4013 500 3803 \nL 500 4441 \nQ 881 4594 1212 4672 \nQ 1544 4750 1819 4750 \nQ 2544 4750 2975 4387 \nQ 3406 4025 3406 3419 \nQ 3406 3131 3298 2873 \nQ 3191 2616 2906 2266 \nQ 2828 2175 2409 1742 \nQ 1991 1309 1228 531 \nz\n\" transform=\"scale(0.015625)\"/>\n       </defs>\n       <use xlink:href=\"#DejaVuSans-32\"/>\n       <use xlink:href=\"#DejaVuSans-2e\" transform=\"translate(63.623047 0)\"/>\n       <use xlink:href=\"#DejaVuSans-30\" transform=\"translate(95.410156 0)\"/>\n      </g>\n     </g>\n    </g>\n    <g id=\"xtick_4\">\n     <g id=\"line2d_7\">\n      <path d=\"M 315.7998 131.959219 \nL 315.7998 10.999219 \n\" clip-path=\"url(#p97a9ba20ff)\" style=\"fill: none; stroke: #ffffff; stroke-width: 0.8; stroke-linecap: square\"/>\n     </g>\n     <g id=\"line2d_8\">\n      <g>\n       <use xlink:href=\"#ma1fd3c2bdb\" x=\"315.7998\" y=\"131.959219\" style=\"fill: #555555; stroke: #555555; stroke-width: 0.8\"/>\n      </g>\n     </g>\n     <g id=\"text_4\">\n      <!-- 2.5 -->\n      <g style=\"fill: #555555\" transform=\"translate(307.848237 146.557656) scale(0.1 -0.1)\">\n       <use xlink:href=\"#DejaVuSans-32\"/>\n       <use xlink:href=\"#DejaVuSans-2e\" transform=\"translate(63.623047 0)\"/>\n       <use xlink:href=\"#DejaVuSans-35\" transform=\"translate(95.410156 0)\"/>\n      </g>\n     </g>\n    </g>\n    <g id=\"xtick_5\">\n     <g id=\"line2d_9\">\n      <path d=\"M 394.983835 131.959219 \nL 394.983835 10.999219 \n\" clip-path=\"url(#p97a9ba20ff)\" style=\"fill: none; stroke: #ffffff; stroke-width: 0.8; stroke-linecap: square\"/>\n     </g>\n     <g id=\"line2d_10\">\n      <g>\n       <use xlink:href=\"#ma1fd3c2bdb\" x=\"394.983835\" y=\"131.959219\" style=\"fill: #555555; stroke: #555555; stroke-width: 0.8\"/>\n      </g>\n     </g>\n     <g id=\"text_5\">\n      <!-- 3.0 -->\n      <g style=\"fill: #555555\" transform=\"translate(387.032273 146.557656) scale(0.1 -0.1)\">\n       <defs>\n        <path id=\"DejaVuSans-33\" d=\"M 2597 2516 \nQ 3050 2419 3304 2112 \nQ 3559 1806 3559 1356 \nQ 3559 666 3084 287 \nQ 2609 -91 1734 -91 \nQ 1441 -91 1130 -33 \nQ 819 25 488 141 \nL 488 750 \nQ 750 597 1062 519 \nQ 1375 441 1716 441 \nQ 2309 441 2620 675 \nQ 2931 909 2931 1356 \nQ 2931 1769 2642 2001 \nQ 2353 2234 1838 2234 \nL 1294 2234 \nL 1294 2753 \nL 1863 2753 \nQ 2328 2753 2575 2939 \nQ 2822 3125 2822 3475 \nQ 2822 3834 2567 4026 \nQ 2313 4219 1838 4219 \nQ 1578 4219 1281 4162 \nQ 984 4106 628 3988 \nL 628 4550 \nQ 988 4650 1302 4700 \nQ 1616 4750 1894 4750 \nQ 2613 4750 3031 4423 \nQ 3450 4097 3450 3541 \nQ 3450 3153 3228 2886 \nQ 3006 2619 2597 2516 \nz\n\" transform=\"scale(0.015625)\"/>\n       </defs>\n       <use xlink:href=\"#DejaVuSans-33\"/>\n       <use xlink:href=\"#DejaVuSans-2e\" transform=\"translate(63.623047 0)\"/>\n       <use xlink:href=\"#DejaVuSans-30\" transform=\"translate(95.410156 0)\"/>\n      </g>\n     </g>\n    </g>\n   </g>\n   <g id=\"matplotlib.axis_2\">\n    <g id=\"ytick_1\">\n     <g id=\"line2d_11\">\n      <path d=\"M 54.096563 126.199219 \nL 411.216563 126.199219 \n\" clip-path=\"url(#p97a9ba20ff)\" style=\"fill: none; stroke: #ffffff; stroke-width: 0.8; stroke-linecap: square\"/>\n     </g>\n     <g id=\"line2d_12\">\n      <defs>\n       <path id=\"m7371e98cc1\" d=\"M 0 0 \nL -3.5 0 \n\" style=\"stroke: #555555; stroke-width: 0.8\"/>\n      </defs>\n      <g>\n       <use xlink:href=\"#m7371e98cc1\" x=\"54.096563\" y=\"126.199219\" style=\"fill: #555555; stroke: #555555; stroke-width: 0.8\"/>\n      </g>\n     </g>\n     <g id=\"text_6\">\n      <!-- −1.0 -->\n      <g style=\"fill: #555555\" transform=\"translate(22.81375 129.998437) scale(0.1 -0.1)\">\n       <defs>\n        <path id=\"DejaVuSans-2212\" d=\"M 678 2272 \nL 4684 2272 \nL 4684 1741 \nL 678 1741 \nL 678 2272 \nz\n\" transform=\"scale(0.015625)\"/>\n       </defs>\n       <use xlink:href=\"#DejaVuSans-2212\"/>\n       <use xlink:href=\"#DejaVuSans-31\" transform=\"translate(83.789062 0)\"/>\n       <use xlink:href=\"#DejaVuSans-2e\" transform=\"translate(147.412109 0)\"/>\n       <use xlink:href=\"#DejaVuSans-30\" transform=\"translate(179.199219 0)\"/>\n      </g>\n     </g>\n    </g>\n    <g id=\"ytick_2\">\n     <g id=\"line2d_13\">\n      <path d=\"M 54.096563 97.399219 \nL 411.216563 97.399219 \n\" clip-path=\"url(#p97a9ba20ff)\" style=\"fill: none; stroke: #ffffff; stroke-width: 0.8; stroke-linecap: square\"/>\n     </g>\n     <g id=\"line2d_14\">\n      <g>\n       <use xlink:href=\"#m7371e98cc1\" x=\"54.096563\" y=\"97.399219\" style=\"fill: #555555; stroke: #555555; stroke-width: 0.8\"/>\n      </g>\n     </g>\n     <g id=\"text_7\">\n      <!-- −0.5 -->\n      <g style=\"fill: #555555\" transform=\"translate(22.81375 101.198437) scale(0.1 -0.1)\">\n       <use xlink:href=\"#DejaVuSans-2212\"/>\n       <use xlink:href=\"#DejaVuSans-30\" transform=\"translate(83.789062 0)\"/>\n       <use xlink:href=\"#DejaVuSans-2e\" transform=\"translate(147.412109 0)\"/>\n       <use xlink:href=\"#DejaVuSans-35\" transform=\"translate(179.199219 0)\"/>\n      </g>\n     </g>\n    </g>\n    <g id=\"ytick_3\">\n     <g id=\"line2d_15\">\n      <path d=\"M 54.096563 68.599219 \nL 411.216563 68.599219 \n\" clip-path=\"url(#p97a9ba20ff)\" style=\"fill: none; stroke: #ffffff; stroke-width: 0.8; stroke-linecap: square\"/>\n     </g>\n     <g id=\"line2d_16\">\n      <g>\n       <use xlink:href=\"#m7371e98cc1\" x=\"54.096563\" y=\"68.599219\" style=\"fill: #555555; stroke: #555555; stroke-width: 0.8\"/>\n      </g>\n     </g>\n     <g id=\"text_8\">\n      <!-- 0.0 -->\n      <g style=\"fill: #555555\" transform=\"translate(31.193438 72.398437) scale(0.1 -0.1)\">\n       <use xlink:href=\"#DejaVuSans-30\"/>\n       <use xlink:href=\"#DejaVuSans-2e\" transform=\"translate(63.623047 0)\"/>\n       <use xlink:href=\"#DejaVuSans-30\" transform=\"translate(95.410156 0)\"/>\n      </g>\n     </g>\n    </g>\n    <g id=\"ytick_4\">\n     <g id=\"line2d_17\">\n      <path d=\"M 54.096563 39.799219 \nL 411.216563 39.799219 \n\" clip-path=\"url(#p97a9ba20ff)\" style=\"fill: none; stroke: #ffffff; stroke-width: 0.8; stroke-linecap: square\"/>\n     </g>\n     <g id=\"line2d_18\">\n      <g>\n       <use xlink:href=\"#m7371e98cc1\" x=\"54.096563\" y=\"39.799219\" style=\"fill: #555555; stroke: #555555; stroke-width: 0.8\"/>\n      </g>\n     </g>\n     <g id=\"text_9\">\n      <!-- 0.5 -->\n      <g style=\"fill: #555555\" transform=\"translate(31.193438 43.598437) scale(0.1 -0.1)\">\n       <use xlink:href=\"#DejaVuSans-30\"/>\n       <use xlink:href=\"#DejaVuSans-2e\" transform=\"translate(63.623047 0)\"/>\n       <use xlink:href=\"#DejaVuSans-35\" transform=\"translate(95.410156 0)\"/>\n      </g>\n     </g>\n    </g>\n    <g id=\"ytick_5\">\n     <g id=\"line2d_19\">\n      <path d=\"M 54.096563 10.999219 \nL 411.216563 10.999219 \n\" clip-path=\"url(#p97a9ba20ff)\" style=\"fill: none; stroke: #ffffff; stroke-width: 0.8; stroke-linecap: square\"/>\n     </g>\n     <g id=\"line2d_20\">\n      <g>\n       <use xlink:href=\"#m7371e98cc1\" x=\"54.096563\" y=\"10.999219\" style=\"fill: #555555; stroke: #555555; stroke-width: 0.8\"/>\n      </g>\n     </g>\n     <g id=\"text_10\">\n      <!-- 1.0 -->\n      <g style=\"fill: #555555\" transform=\"translate(31.193438 14.798437) scale(0.1 -0.1)\">\n       <use xlink:href=\"#DejaVuSans-31\"/>\n       <use xlink:href=\"#DejaVuSans-2e\" transform=\"translate(63.623047 0)\"/>\n       <use xlink:href=\"#DejaVuSans-30\" transform=\"translate(95.410156 0)\"/>\n      </g>\n     </g>\n    </g>\n    <g id=\"text_11\">\n     <!-- $V[\\epsilon]$ -->\n     <g style=\"fill: #555555\" transform=\"translate(16.318125 83.539219) rotate(-90) scale(0.12 -0.12)\">\n      <defs>\n       <path id=\"DejaVuSans-Oblique-56\" d=\"M 1319 0 \nL 500 4666 \nL 1119 4666 \nL 1797 653 \nL 4063 4666 \nL 4750 4666 \nL 2053 0 \nL 1319 0 \nz\n\" transform=\"scale(0.015625)\"/>\n       <path id=\"DejaVuSans-5b\" d=\"M 550 4863 \nL 1875 4863 \nL 1875 4416 \nL 1125 4416 \nL 1125 -397 \nL 1875 -397 \nL 1875 -844 \nL 550 -844 \nL 550 4863 \nz\n\" transform=\"scale(0.015625)\"/>\n       <path id=\"DejaVuSans-Oblique-3b5\" d=\"M 1263 1888 \nQ 925 1963 778 2166 \nQ 669 2309 669 2503 \nQ 669 3034 1175 3344 \nQ 1575 3588 2188 3588 \nQ 2425 3588 2684 3550 \nQ 2944 3513 3234 3438 \nL 3134 2916 \nQ 2847 3006 2606 3047 \nQ 2359 3088 2138 3088 \nQ 1766 3088 1522 2944 \nQ 1228 2772 1228 2522 \nQ 1228 2356 1381 2241 \nQ 1563 2103 1925 2103 \nL 2409 2103 \nL 2319 1628 \nL 1856 1628 \nQ 1425 1628 1172 1469 \nQ 828 1253 828 916 \nQ 828 703 1013 563 \nQ 1244 388 1716 388 \nQ 2006 388 2284 444 \nQ 2563 503 2806 619 \nL 2700 84 \nQ 2403 -3 2131 -47 \nQ 1859 -91 1609 -91 \nQ 866 -91 516 194 \nQ 250 413 250 781 \nQ 250 1278 600 1584 \nQ 859 1813 1263 1888 \nz\n\" transform=\"scale(0.015625)\"/>\n       <path id=\"DejaVuSans-5d\" d=\"M 1947 4863 \nL 1947 -844 \nL 622 -844 \nL 622 -397 \nL 1369 -397 \nL 1369 4416 \nL 622 4416 \nL 622 4863 \nL 1947 4863 \nz\n\" transform=\"scale(0.015625)\"/>\n      </defs>\n      <use xlink:href=\"#DejaVuSans-Oblique-56\" transform=\"translate(0 0.015625)\"/>\n      <use xlink:href=\"#DejaVuSans-5b\" transform=\"translate(68.408203 0.015625)\"/>\n      <use xlink:href=\"#DejaVuSans-Oblique-3b5\" transform=\"translate(107.421875 0.015625)\"/>\n      <use xlink:href=\"#DejaVuSans-5d\" transform=\"translate(161.474609 0.015625)\"/>\n     </g>\n    </g>\n   </g>\n   <g id=\"line2d_21\">\n    <path d=\"M 72.614424 -1 \nL 73.582341 14.426035 \nL 74.883562 32.564806 \nL 76.184783 48.198223 \nL 77.486003 61.638557 \nL 78.787224 73.159142 \nL 80.088444 82.999373 \nL 81.389665 91.369043 \nL 82.690886 98.452097 \nL 83.992106 104.409898 \nL 85.293327 109.384057 \nL 86.594548 113.498909 \nL 87.895768 116.863649 \nL 89.196989 119.574211 \nL 90.498209 121.714899 \nL 91.79943 123.359809 \nL 93.100651 124.574076 \nL 94.401871 125.414963 \nL 95.703092 125.93281 \nL 97.004313 126.171873 \nL 98.305533 126.171051 \nL 99.606754 125.964528 \nL 100.907974 125.582338 \nL 102.859805 124.73648 \nL 104.811636 123.62978 \nL 107.414078 121.85439 \nL 110.667129 119.313084 \nL 115.872012 114.878605 \nL 124.980556 107.080116 \nL 130.185438 102.951034 \nL 134.739711 99.619918 \nL 139.293983 96.569344 \nL 143.848255 93.797854 \nL 148.402527 91.293858 \nL 152.956799 89.040227 \nL 157.511072 87.01722 \nL 162.715954 84.9613 \nL 167.920837 83.14982 \nL 173.776329 81.369041 \nL 179.631822 79.825422 \nL 186.137925 78.349136 \nL 193.294639 76.971348 \nL 201.101962 75.713193 \nL 209.559896 74.586394 \nL 218.668441 73.59455 \nL 229.078206 72.68383 \nL 241.439802 71.84017 \nL 255.753229 71.103218 \nL 272.669097 70.469152 \nL 292.838016 69.941899 \nL 318.862429 69.496774 \nL 353.344775 69.145893 \nL 394.983835 68.914835 \nL 394.983835 68.914835 \n\" clip-path=\"url(#p97a9ba20ff)\" style=\"fill: none; stroke: #e24a33; stroke-width: 1.5; stroke-linecap: square\"/>\n   </g>\n   <g id=\"patch_3\">\n    <path d=\"M 54.096563 131.959219 \nL 54.096563 10.999219 \n\" style=\"fill: none; stroke: #ffffff; stroke-linejoin: miter; stroke-linecap: square\"/>\n   </g>\n   <g id=\"patch_4\">\n    <path d=\"M 411.216563 131.959219 \nL 411.216563 10.999219 \n\" style=\"fill: none; stroke: #ffffff; stroke-linejoin: miter; stroke-linecap: square\"/>\n   </g>\n   <g id=\"patch_5\">\n    <path d=\"M 54.096563 131.959219 \nL 411.216563 131.959219 \n\" style=\"fill: none; stroke: #ffffff; stroke-linejoin: miter; stroke-linecap: square\"/>\n   </g>\n   <g id=\"patch_6\">\n    <path d=\"M 54.096563 10.999219 \nL 411.216563 10.999219 \n\" style=\"fill: none; stroke: #ffffff; stroke-linejoin: miter; stroke-linecap: square\"/>\n   </g>\n  </g>\n  <g id=\"axes_2\">\n   <g id=\"patch_7\">\n    <path d=\"M 54.096563 277.111219 \nL 411.216563 277.111219 \nL 411.216563 156.151219 \nL 54.096563 156.151219 \nz\n\" style=\"fill: #e5e5e5\"/>\n   </g>\n   <g id=\"matplotlib.axis_3\">\n    <g id=\"xtick_6\">\n     <g id=\"line2d_22\">\n      <path d=\"M 78.247693 277.111219 \nL 78.247693 156.151219 \n\" clip-path=\"url(#p7860abb4cf)\" style=\"fill: none; stroke: #ffffff; stroke-width: 0.8; stroke-linecap: square\"/>\n     </g>\n     <g id=\"line2d_23\">\n      <g>\n       <use xlink:href=\"#ma1fd3c2bdb\" x=\"78.247693\" y=\"277.111219\" style=\"fill: #555555; stroke: #555555; stroke-width: 0.8\"/>\n      </g>\n     </g>\n     <g id=\"text_12\">\n      <!-- 1.0 -->\n      <g style=\"fill: #555555\" transform=\"translate(70.296131 291.709656) scale(0.1 -0.1)\">\n       <use xlink:href=\"#DejaVuSans-31\"/>\n       <use xlink:href=\"#DejaVuSans-2e\" transform=\"translate(63.623047 0)\"/>\n       <use xlink:href=\"#DejaVuSans-30\" transform=\"translate(95.410156 0)\"/>\n      </g>\n     </g>\n    </g>\n    <g id=\"xtick_7\">\n     <g id=\"line2d_24\">\n      <path d=\"M 157.431729 277.111219 \nL 157.431729 156.151219 \n\" clip-path=\"url(#p7860abb4cf)\" style=\"fill: none; stroke: #ffffff; stroke-width: 0.8; stroke-linecap: square\"/>\n     </g>\n     <g id=\"line2d_25\">\n      <g>\n       <use xlink:href=\"#ma1fd3c2bdb\" x=\"157.431729\" y=\"277.111219\" style=\"fill: #555555; stroke: #555555; stroke-width: 0.8\"/>\n      </g>\n     </g>\n     <g id=\"text_13\">\n      <!-- 1.5 -->\n      <g style=\"fill: #555555\" transform=\"translate(149.480166 291.709656) scale(0.1 -0.1)\">\n       <use xlink:href=\"#DejaVuSans-31\"/>\n       <use xlink:href=\"#DejaVuSans-2e\" transform=\"translate(63.623047 0)\"/>\n       <use xlink:href=\"#DejaVuSans-35\" transform=\"translate(95.410156 0)\"/>\n      </g>\n     </g>\n    </g>\n    <g id=\"xtick_8\">\n     <g id=\"line2d_26\">\n      <path d=\"M 236.615764 277.111219 \nL 236.615764 156.151219 \n\" clip-path=\"url(#p7860abb4cf)\" style=\"fill: none; stroke: #ffffff; stroke-width: 0.8; stroke-linecap: square\"/>\n     </g>\n     <g id=\"line2d_27\">\n      <g>\n       <use xlink:href=\"#ma1fd3c2bdb\" x=\"236.615764\" y=\"277.111219\" style=\"fill: #555555; stroke: #555555; stroke-width: 0.8\"/>\n      </g>\n     </g>\n     <g id=\"text_14\">\n      <!-- 2.0 -->\n      <g style=\"fill: #555555\" transform=\"translate(228.664202 291.709656) scale(0.1 -0.1)\">\n       <use xlink:href=\"#DejaVuSans-32\"/>\n       <use xlink:href=\"#DejaVuSans-2e\" transform=\"translate(63.623047 0)\"/>\n       <use xlink:href=\"#DejaVuSans-30\" transform=\"translate(95.410156 0)\"/>\n      </g>\n     </g>\n    </g>\n    <g id=\"xtick_9\">\n     <g id=\"line2d_28\">\n      <path d=\"M 315.7998 277.111219 \nL 315.7998 156.151219 \n\" clip-path=\"url(#p7860abb4cf)\" style=\"fill: none; stroke: #ffffff; stroke-width: 0.8; stroke-linecap: square\"/>\n     </g>\n     <g id=\"line2d_29\">\n      <g>\n       <use xlink:href=\"#ma1fd3c2bdb\" x=\"315.7998\" y=\"277.111219\" style=\"fill: #555555; stroke: #555555; stroke-width: 0.8\"/>\n      </g>\n     </g>\n     <g id=\"text_15\">\n      <!-- 2.5 -->\n      <g style=\"fill: #555555\" transform=\"translate(307.848237 291.709656) scale(0.1 -0.1)\">\n       <use xlink:href=\"#DejaVuSans-32\"/>\n       <use xlink:href=\"#DejaVuSans-2e\" transform=\"translate(63.623047 0)\"/>\n       <use xlink:href=\"#DejaVuSans-35\" transform=\"translate(95.410156 0)\"/>\n      </g>\n     </g>\n    </g>\n    <g id=\"xtick_10\">\n     <g id=\"line2d_30\">\n      <path d=\"M 394.983835 277.111219 \nL 394.983835 156.151219 \n\" clip-path=\"url(#p7860abb4cf)\" style=\"fill: none; stroke: #ffffff; stroke-width: 0.8; stroke-linecap: square\"/>\n     </g>\n     <g id=\"line2d_31\">\n      <g>\n       <use xlink:href=\"#ma1fd3c2bdb\" x=\"394.983835\" y=\"277.111219\" style=\"fill: #555555; stroke: #555555; stroke-width: 0.8\"/>\n      </g>\n     </g>\n     <g id=\"text_16\">\n      <!-- 3.0 -->\n      <g style=\"fill: #555555\" transform=\"translate(387.032273 291.709656) scale(0.1 -0.1)\">\n       <use xlink:href=\"#DejaVuSans-33\"/>\n       <use xlink:href=\"#DejaVuSans-2e\" transform=\"translate(63.623047 0)\"/>\n       <use xlink:href=\"#DejaVuSans-30\" transform=\"translate(95.410156 0)\"/>\n      </g>\n     </g>\n    </g>\n    <g id=\"text_17\">\n     <!-- $r[\\sigma]$ -->\n     <g style=\"fill: #555555\" transform=\"translate(221.676563 306.907469) scale(0.12 -0.12)\">\n      <defs>\n       <path id=\"DejaVuSans-Oblique-72\" d=\"M 2853 2969 \nQ 2766 3016 2653 3041 \nQ 2541 3066 2413 3066 \nQ 1953 3066 1609 2717 \nQ 1266 2369 1153 1784 \nL 800 0 \nL 225 0 \nL 909 3500 \nL 1484 3500 \nL 1375 2956 \nQ 1603 3259 1920 3421 \nQ 2238 3584 2597 3584 \nQ 2691 3584 2781 3573 \nQ 2872 3563 2963 3538 \nL 2853 2969 \nz\n\" transform=\"scale(0.015625)\"/>\n       <path id=\"DejaVuSans-Oblique-3c3\" d=\"M 2219 3044 \nQ 1744 3044 1422 2700 \nQ 1081 2341 969 1747 \nQ 844 1119 1044 756 \nQ 1241 397 1706 397 \nQ 2166 397 2503 759 \nQ 2844 1122 2966 1747 \nQ 3075 2319 2881 2700 \nQ 2700 3044 2219 3044 \nz\nM 2309 3503 \nL 4219 3500 \nL 4106 2925 \nL 3463 2925 \nQ 3706 2438 3575 1747 \nQ 3406 888 2884 400 \nQ 2359 -91 1609 -91 \nQ 856 -91 525 400 \nQ 194 888 363 1747 \nQ 528 2609 1050 3097 \nQ 1484 3503 2309 3503 \nz\n\" transform=\"scale(0.015625)\"/>\n      </defs>\n      <use xlink:href=\"#DejaVuSans-Oblique-72\" transform=\"translate(0 0.015625)\"/>\n      <use xlink:href=\"#DejaVuSans-5b\" transform=\"translate(41.113281 0.015625)\"/>\n      <use xlink:href=\"#DejaVuSans-Oblique-3c3\" transform=\"translate(80.126953 0.015625)\"/>\n      <use xlink:href=\"#DejaVuSans-5d\" transform=\"translate(143.505859 0.015625)\"/>\n     </g>\n    </g>\n   </g>\n   <g id=\"matplotlib.axis_4\">\n    <g id=\"ytick_6\">\n     <g id=\"line2d_32\">\n      <path d=\"M 54.096563 277.111219 \nL 411.216563 277.111219 \n\" clip-path=\"url(#p7860abb4cf)\" style=\"fill: none; stroke: #ffffff; stroke-width: 0.8; stroke-linecap: square\"/>\n     </g>\n     <g id=\"line2d_33\">\n      <g>\n       <use xlink:href=\"#m7371e98cc1\" x=\"54.096563\" y=\"277.111219\" style=\"fill: #555555; stroke: #555555; stroke-width: 0.8\"/>\n      </g>\n     </g>\n     <g id=\"text_18\">\n      <!-- −10 -->\n      <g style=\"fill: #555555\" transform=\"translate(25.991875 280.910437) scale(0.1 -0.1)\">\n       <use xlink:href=\"#DejaVuSans-2212\"/>\n       <use xlink:href=\"#DejaVuSans-31\" transform=\"translate(83.789062 0)\"/>\n       <use xlink:href=\"#DejaVuSans-30\" transform=\"translate(147.412109 0)\"/>\n      </g>\n     </g>\n    </g>\n    <g id=\"ytick_7\">\n     <g id=\"line2d_34\">\n      <path d=\"M 54.096563 246.871219 \nL 411.216563 246.871219 \n\" clip-path=\"url(#p7860abb4cf)\" style=\"fill: none; stroke: #ffffff; stroke-width: 0.8; stroke-linecap: square\"/>\n     </g>\n     <g id=\"line2d_35\">\n      <g>\n       <use xlink:href=\"#m7371e98cc1\" x=\"54.096563\" y=\"246.871219\" style=\"fill: #555555; stroke: #555555; stroke-width: 0.8\"/>\n      </g>\n     </g>\n     <g id=\"text_19\">\n      <!-- −5 -->\n      <g style=\"fill: #555555\" transform=\"translate(32.354375 250.670437) scale(0.1 -0.1)\">\n       <use xlink:href=\"#DejaVuSans-2212\"/>\n       <use xlink:href=\"#DejaVuSans-35\" transform=\"translate(83.789062 0)\"/>\n      </g>\n     </g>\n    </g>\n    <g id=\"ytick_8\">\n     <g id=\"line2d_36\">\n      <path d=\"M 54.096563 216.631219 \nL 411.216563 216.631219 \n\" clip-path=\"url(#p7860abb4cf)\" style=\"fill: none; stroke: #ffffff; stroke-width: 0.8; stroke-linecap: square\"/>\n     </g>\n     <g id=\"line2d_37\">\n      <g>\n       <use xlink:href=\"#m7371e98cc1\" x=\"54.096563\" y=\"216.631219\" style=\"fill: #555555; stroke: #555555; stroke-width: 0.8\"/>\n      </g>\n     </g>\n     <g id=\"text_20\">\n      <!-- 0 -->\n      <g style=\"fill: #555555\" transform=\"translate(40.734063 220.430437) scale(0.1 -0.1)\">\n       <use xlink:href=\"#DejaVuSans-30\"/>\n      </g>\n     </g>\n    </g>\n    <g id=\"ytick_9\">\n     <g id=\"line2d_38\">\n      <path d=\"M 54.096563 186.391219 \nL 411.216563 186.391219 \n\" clip-path=\"url(#p7860abb4cf)\" style=\"fill: none; stroke: #ffffff; stroke-width: 0.8; stroke-linecap: square\"/>\n     </g>\n     <g id=\"line2d_39\">\n      <g>\n       <use xlink:href=\"#m7371e98cc1\" x=\"54.096563\" y=\"186.391219\" style=\"fill: #555555; stroke: #555555; stroke-width: 0.8\"/>\n      </g>\n     </g>\n     <g id=\"text_21\">\n      <!-- 5 -->\n      <g style=\"fill: #555555\" transform=\"translate(40.734063 190.190437) scale(0.1 -0.1)\">\n       <use xlink:href=\"#DejaVuSans-35\"/>\n      </g>\n     </g>\n    </g>\n    <g id=\"ytick_10\">\n     <g id=\"line2d_40\">\n      <path d=\"M 54.096563 156.151219 \nL 411.216563 156.151219 \n\" clip-path=\"url(#p7860abb4cf)\" style=\"fill: none; stroke: #ffffff; stroke-width: 0.8; stroke-linecap: square\"/>\n     </g>\n     <g id=\"line2d_41\">\n      <g>\n       <use xlink:href=\"#m7371e98cc1\" x=\"54.096563\" y=\"156.151219\" style=\"fill: #555555; stroke: #555555; stroke-width: 0.8\"/>\n      </g>\n     </g>\n     <g id=\"text_22\">\n      <!-- 10 -->\n      <g style=\"fill: #555555\" transform=\"translate(34.371563 159.950437) scale(0.1 -0.1)\">\n       <use xlink:href=\"#DejaVuSans-31\"/>\n       <use xlink:href=\"#DejaVuSans-30\" transform=\"translate(63.623047 0)\"/>\n      </g>\n     </g>\n    </g>\n    <g id=\"text_23\">\n     <!-- $F[\\epsilon/\\sigma]$ -->\n     <g style=\"fill: #555555\" transform=\"translate(19.49625 233.851219) rotate(-90) scale(0.12 -0.12)\">\n      <defs>\n       <path id=\"DejaVuSans-Oblique-46\" d=\"M 1081 4666 \nL 3756 4666 \nL 3653 4134 \nL 1606 4134 \nL 1338 2759 \nL 3188 2759 \nL 3084 2228 \nL 1234 2228 \nL 800 0 \nL 172 0 \nL 1081 4666 \nz\n\" transform=\"scale(0.015625)\"/>\n       <path id=\"DejaVuSans-2f\" d=\"M 1625 4666 \nL 2156 4666 \nL 531 -594 \nL 0 -594 \nL 1625 4666 \nz\n\" transform=\"scale(0.015625)\"/>\n      </defs>\n      <use xlink:href=\"#DejaVuSans-Oblique-46\" transform=\"translate(0 0.015625)\"/>\n      <use xlink:href=\"#DejaVuSans-5b\" transform=\"translate(57.519531 0.015625)\"/>\n      <use xlink:href=\"#DejaVuSans-Oblique-3b5\" transform=\"translate(96.533203 0.015625)\"/>\n      <use xlink:href=\"#DejaVuSans-2f\" transform=\"translate(150.585938 0.015625)\"/>\n      <use xlink:href=\"#DejaVuSans-Oblique-3c3\" transform=\"translate(184.277344 0.015625)\"/>\n      <use xlink:href=\"#DejaVuSans-5d\" transform=\"translate(247.65625 0.015625)\"/>\n     </g>\n    </g>\n   </g>\n   <g id=\"line2d_42\">\n    <path d=\"M 74.783212 -1 \nL 75.534172 17.013521 \nL 76.835393 45.018829 \nL 78.136614 69.53379 \nL 79.437834 90.991744 \nL 80.739055 109.77071 \nL 82.040275 126.200719 \nL 83.341496 140.570149 \nL 84.642717 153.13117 \nL 85.943937 164.104463 \nL 87.245158 173.68329 \nL 88.546378 182.037018 \nL 89.847599 189.314173 \nL 91.14882 195.645088 \nL 92.45004 201.144204 \nL 93.751261 205.912059 \nL 95.052482 210.03703 \nL 96.353702 213.596846 \nL 97.654923 216.659898 \nL 98.956143 219.286391 \nL 100.257364 221.529347 \nL 101.558585 223.435477 \nL 102.859805 225.045948 \nL 104.161026 226.39705 \nL 105.462247 227.520785 \nL 107.414078 228.840891 \nL 109.365908 229.793782 \nL 111.317739 230.447114 \nL 113.26957 230.856957 \nL 115.221401 231.069777 \nL 117.823843 231.112614 \nL 120.426284 230.946315 \nL 123.679335 230.529948 \nL 128.233607 229.701345 \nL 136.040931 227.990359 \nL 147.751917 225.436694 \nL 155.559241 223.957236 \nL 163.366564 222.696623 \nL 171.824498 221.564945 \nL 180.933043 220.5829 \nL 190.692197 219.75448 \nL 201.752573 219.035051 \nL 214.764779 218.41183 \nL 230.379426 217.888695 \nL 250.548346 217.449935 \nL 277.223369 217.111241 \nL 315.609377 216.867878 \nL 379.369188 216.7148 \nL 394.983835 216.697407 \nL 394.983835 216.697407 \n\" clip-path=\"url(#p7860abb4cf)\" style=\"fill: none; stroke: #e24a33; stroke-width: 1.5; stroke-linecap: square\"/>\n   </g>\n   <g id=\"patch_8\">\n    <path d=\"M 54.096563 277.111219 \nL 54.096563 156.151219 \n\" style=\"fill: none; stroke: #ffffff; stroke-linejoin: miter; stroke-linecap: square\"/>\n   </g>\n   <g id=\"patch_9\">\n    <path d=\"M 411.216563 277.111219 \nL 411.216563 156.151219 \n\" style=\"fill: none; stroke: #ffffff; stroke-linejoin: miter; stroke-linecap: square\"/>\n   </g>\n   <g id=\"patch_10\">\n    <path d=\"M 54.096563 277.111219 \nL 411.216563 277.111219 \n\" style=\"fill: none; stroke: #ffffff; stroke-linejoin: miter; stroke-linecap: square\"/>\n   </g>\n   <g id=\"patch_11\">\n    <path d=\"M 54.096563 156.151219 \nL 411.216563 156.151219 \n\" style=\"fill: none; stroke: #ffffff; stroke-linejoin: miter; stroke-linecap: square\"/>\n   </g>\n  </g>\n </g>\n <defs>\n  <clipPath id=\"p97a9ba20ff\">\n   <rect x=\"54.096563\" y=\"10.999219\" width=\"357.12\" height=\"120.96\"/>\n  </clipPath>\n  <clipPath id=\"p7860abb4cf\">\n   <rect x=\"54.096563\" y=\"156.151219\" width=\"357.12\" height=\"120.96\"/>\n  </clipPath>\n </defs>\n</svg>\n"
          },
          "metadata": {}
        }
      ],
      "source": [
        "sigma = 1\n",
        "epsilon = 1\n",
        "r_cut = 3\n",
        "r = numpy.linspace(0.95, r_cut, 500)\n",
        "V_lj = 4*epsilon*((sigma/r)**12-(sigma/r)**6)\n",
        "F_lj = 24*epsilon*(2*(sigma/r)**13-sigma/r**7)\n",
        "\n",
        "fig, ax = matplotlib.pyplot.subplots(2,1)\n",
        "ax[0].plot(r, V_lj)\n",
        "ax[1].plot(r, F_lj)\n",
        "ax[1].set_xlabel(r\"$r[\\sigma]$\")\n",
        "ax[0].set_ylabel(r\"$V[\\epsilon]$\")\n",
        "ax[1].set_ylabel(r\"$F[\\epsilon/\\sigma]$\")\n",
        "ax[0].set_ylim([-1.1,1])\n",
        "ax[1].set_ylim([-10,10])\n",
        "matplotlib.pyplot.show()\n"
      ]
    },
    {
      "cell_type": "markdown",
      "id": "55fe534e-21a4-4e13-8ecd-fd35c3aa9f79",
      "metadata": {
        "id": "55fe534e-21a4-4e13-8ecd-fd35c3aa9f79"
      },
      "source": [
        "Feel free to change the parameters $\\sigma=$`sigma`, $\\epsilon=$`epsilon` and the cutoff distance `r_cut`. The \"size\" of the particle is determined by $\\sigma$, and the relative attraction well depth is tuned by $\\epsilon$.\n",
        "\n",
        "What do the units on each axis mean? *Hint:* look up [reduced units](https://hoomd-blue.readthedocs.io/en/stable/units.html)."
      ]
    },
    {
      "cell_type": "markdown",
      "id": "c44ebe00-3a76-4099-8ae8-26e68a3735fd",
      "metadata": {
        "id": "c44ebe00-3a76-4099-8ae8-26e68a3735fd"
      },
      "source": [
        "## Define Initial Configuration\n",
        "\n",
        "We will use `gsd.hoomd.Frames` and hoomd snapshots extensively in this workshop, so make sure the code above is clear and makes sense to you. In addition to the fields we assinged above, there are many other fields:\n",
        "- velocity `frame.particles.velocity`, `floats` of shape `(N,3)`\n",
        "- bond types `frame.bonds.typeid`, `ints` of shape `(N)`\n",
        "- mass `frame.particles.mass`, `floats` of shape `(N)`\n",
        "- images `frame.particles.images` , `ints` of shape `(N,3)`\n",
        "- box dimensions `frame.configuration.box`, `float [Lx,Ly,Lz,xy, xz, yz]`.\n",
        "- timestep `frame.configuration.step`, `int`\n",
        "\n",
        "which we will use during this workshop. Molecular models also often define `frame.bonds`, `frame.angles`, and `frame.dihedrals`, which we are not using here for simplicity, but the `gsd` format does have those fields too. See [documentation](https://gsd.readthedocs.io/en/latest/python-module-gsd.hoomd.html) for a full list of properties that can be stored in a gsd file.\n",
        "\n",
        "This is the minimum setup needed for two identical particles of type 'A' in a box with $L=30$, one at (0,0,0) and one at (3,0,0):"
      ]
    },
    {
      "cell_type": "code",
      "execution_count": 14,
      "id": "c360a782-23ad-43f3-b79a-9be20f1bbb21",
      "metadata": {
        "id": "c360a782-23ad-43f3-b79a-9be20f1bbb21"
      },
      "outputs": [],
      "source": [
        "frame = gsd.hoomd.Frame()\n",
        "\n",
        "L = 30\n",
        "frame.particles.N = 2\n",
        "frame.particles.position = [[0,0,0],[3.0,0,0]]\n",
        "frame.configuration.box = [L, L, L, 0, 0, 0]\n",
        "frame.particles.types = ['A']"
      ]
    },
    {
      "cell_type": "markdown",
      "id": "45771547-bad0-4180-9716-896f7ef7a79d",
      "metadata": {
        "id": "45771547-bad0-4180-9716-896f7ef7a79d"
      },
      "source": [
        "## Setup Simple Hoomd Framework\n",
        "\n",
        "These are the minimal ingredients for setting up a hoomd simulation. First, we do need an [integrator](https://hoomd-blue.readthedocs.io/en/stable/hoomd/md/integrator.html). Here we will not actually do a simulation, so we can safely set the timestep to 0:"
      ]
    },
    {
      "cell_type": "code",
      "execution_count": 15,
      "id": "97d33ac3-8681-4d3f-a3f5-e8a3ef3cea3e",
      "metadata": {
        "id": "97d33ac3-8681-4d3f-a3f5-e8a3ef3cea3e"
      },
      "outputs": [],
      "source": [
        "integrator = hoomd.md.Integrator(dt=0) # we are not actually doing a simulation, so we can set the timestep to 0"
      ]
    },
    {
      "cell_type": "markdown",
      "id": "fa365199-6662-48ec-b190-81f17fbd916e",
      "metadata": {
        "id": "fa365199-6662-48ec-b190-81f17fbd916e"
      },
      "source": [
        "Then we need a [neighbor list](https://hoomd-blue.readthedocs.io/en/stable/hoomd/md/module-nlist.html). Hoomd uses these neighbor lists to compute forces on particles more efficiently."
      ]
    },
    {
      "cell_type": "code",
      "execution_count": 16,
      "id": "7dadb464-57a8-483f-9640-758c7e03f2ae",
      "metadata": {
        "id": "7dadb464-57a8-483f-9640-758c7e03f2ae"
      },
      "outputs": [],
      "source": [
        "cell = hoomd.md.nlist.Cell(buffer=0.4)"
      ]
    },
    {
      "cell_type": "markdown",
      "id": "4cf226cd-9587-428e-bcd6-91d2d3af903c",
      "metadata": {
        "id": "4cf226cd-9587-428e-bcd6-91d2d3af903c"
      },
      "source": [
        "Now we can define the pair interaction between the two particles we have defined above. Here, we will use the LJ potential as an example."
      ]
    },
    {
      "cell_type": "code",
      "execution_count": 17,
      "id": "7fc688bc-81f8-464a-8717-09c47a488edc",
      "metadata": {
        "id": "7fc688bc-81f8-464a-8717-09c47a488edc"
      },
      "outputs": [],
      "source": [
        "LJ = hoomd.md.pair.LJ(nlist=cell)\n",
        "LJ.params[(\"A\", \"A\")] = dict(epsilon=epsilon, sigma=sigma)\n",
        "LJ.r_cut[(\"A\", \"A\")] = r_cut\n",
        "integrator.forces.append(LJ)"
      ]
    },
    {
      "cell_type": "markdown",
      "id": "6cb2afb6-6d72-4ccc-ad7e-47c02a452723",
      "metadata": {
        "id": "6cb2afb6-6d72-4ccc-ad7e-47c02a452723"
      },
      "source": [
        "We also need to create the [simulation object](https://hoomd-blue.readthedocs.io/en/stable/hoomd/simulation.html#hoomd.Simulation), which defines the simulation. We assign the `integrator`."
      ]
    },
    {
      "cell_type": "code",
      "execution_count": 18,
      "id": "dcfbaea1-7235-45d3-9b95-5c1955d3f05c",
      "metadata": {
        "id": "dcfbaea1-7235-45d3-9b95-5c1955d3f05c"
      },
      "outputs": [],
      "source": [
        "simulation = hoomd.Simulation(device=hoomd.device.auto_select())\n",
        "simulation.operations.integrator = integrator"
      ]
    },
    {
      "cell_type": "markdown",
      "id": "3fb747bc-9be6-445b-b386-04ad86faaa33",
      "metadata": {
        "id": "3fb747bc-9be6-445b-b386-04ad86faaa33"
      },
      "source": [
        "Now we can read in the `gsd.hoomd.Frame` object, that holds the information about the intital configuration:"
      ]
    },
    {
      "cell_type": "code",
      "execution_count": 19,
      "id": "9b1e4cf7-7803-42bd-bb1c-5cc8357e005a",
      "metadata": {
        "id": "9b1e4cf7-7803-42bd-bb1c-5cc8357e005a"
      },
      "outputs": [],
      "source": [
        "simulation.create_state_from_snapshot(frame)"
      ]
    },
    {
      "cell_type": "markdown",
      "id": "3da439e3-ee36-4566-bbdc-6b58f5d24ad1",
      "metadata": {
        "id": "3da439e3-ee36-4566-bbdc-6b58f5d24ad1"
      },
      "source": [
        "Let's loop over the distances in array `r` and have hoomd compute the energy and the force one one particle in x-direction at each distance. For this, you will need to set the `x` coordinate of the second particle. We will save the output in arrays `measured_energy` and `measured_forces`. Look up how to get the [energy](https://hoomd-blue.readthedocs.io/en/stable/hoomd/md/pair/lj.html#hoomd.md.pair.LJ.energies) from a hoomd pair interaction:"
      ]
    },
    {
      "cell_type": "code",
      "execution_count": 21,
      "id": "ba6e7908-3041-4186-9bda-b1bcf05ac9a3",
      "metadata": {
        "id": "ba6e7908-3041-4186-9bda-b1bcf05ac9a3"
      },
      "outputs": [],
      "source": [
        "measured_energy = []\n",
        "measured_forces = []\n",
        "for a in r:\n",
        "    snapshot = simulation.state.get_snapshot()\n",
        "    snapshot.particles.position[1] = numpy.array([a,0,0])\n",
        "    simulation.state.set_snapshot(snapshot)\n",
        "\n",
        "    simulation.run(0)\n",
        "\n",
        "    measured_energy.append(...)\n",
        "    measured_forces.append(...)\n"
      ]
    },
    {
      "cell_type": "markdown",
      "id": "5931d1a0-77b9-473e-a567-b0a9ff71a1c6",
      "metadata": {
        "id": "5931d1a0-77b9-473e-a567-b0a9ff71a1c6"
      },
      "source": [
        "We can plot the results and compare against our analytical expressions from above"
      ]
    },
    {
      "cell_type": "code",
      "execution_count": null,
      "id": "058bdbbb-ff1d-43f5-8fad-eda3f19a0da0",
      "metadata": {
        "id": "058bdbbb-ff1d-43f5-8fad-eda3f19a0da0"
      },
      "outputs": [],
      "source": [
        "fig, ax = matplotlib.pyplot.subplots(2,1,sharex=True)\n",
        "ax[0].plot(...)\n",
        "ax[0].plot(...)\n",
        "\n",
        "ax[1].plot(...)\n",
        "ax[1].plot(...)\n",
        "\n",
        "ax[1].set_xlabel(r\"$r[\\sigma]$\")\n",
        "ax[0].set_ylabel(r\"$V[\\epsilon]$\")\n",
        "ax[1].set_ylabel(r\"$F[\\epsilon/\\sigma]$\")\n",
        "ax[0].set_ylim([-1.1,1])\n",
        "ax[1].set_ylim([-10,10])\n",
        "matplotlib.pyplot.show()\n"
      ]
    },
    {
      "cell_type": "markdown",
      "id": "ca0c3a34-8074-4685-9ff1-b5cd6edf994e",
      "metadata": {
        "id": "ca0c3a34-8074-4685-9ff1-b5cd6edf994e"
      },
      "source": [
        "### Pair Potential Cutoffs and Interpolation\n",
        "\n",
        "Hoomd (as well as most other MD simulation packages) has various ways to deal with short ranged [pair potentials](https://hoomd-blue.readthedocs.io/en/stable/hoomd/md/module-pair.html). All interactions/forces need to go to zero at some distance, usually `r_cut`. Hoomd can either just cut a potential (`Pair.mode='none'`), cut and shift (`shift`), or cut and smooth (`xplor`).\n",
        "Below we will investigate how these different modes impact the shape of the pair interaction and force. This has an impact on thermodyamic quantities!\n",
        "\n",
        "Note that the below is not how one would run an actual simulation (since multiple LJ potentials are applied simultaneously):"
      ]
    },
    {
      "cell_type": "code",
      "execution_count": null,
      "id": "3574c904-e083-401f-8fdc-96f5ebb60195",
      "metadata": {
        "id": "3574c904-e083-401f-8fdc-96f5ebb60195"
      },
      "outputs": [],
      "source": [
        "frame = gsd.hoomd.Frame()\n",
        "\n",
        "frame.particles.N = 2\n",
        "frame.particles.position = [[0,0,0],[3.0,0,0]]\n",
        "frame.configuration.box = [10, 10, 10, 0, 0, 0]\n",
        "frame.particles.types = ['A']\n",
        "\n",
        "integrator = hoomd.md.Integrator(dt=0)\n",
        "cell = hoomd.md.nlist.Cell(buffer=0.4)\n",
        "\n",
        "LJ_cut = hoomd.md.pair.LJ(nlist=cell)\n",
        "LJ_cut.params[(\"A\", \"A\")] = dict(epsilon=epsilon, sigma=sigma)\n",
        "LJ_cut.r_cut[(\"A\", \"A\")] = 2.0\n",
        "\n",
        "LJ_shift = hoomd.md.pair.LJ(nlist=cell)\n",
        "LJ_shift.params[(\"A\", \"A\")] = dict(epsilon=epsilon, sigma=sigma)\n",
        "LJ_shift.r_cut[(\"A\", \"A\")] = 2.0\n",
        "LJ_shift.mode = \"shift\"\n",
        "\n",
        "LJ_xplor = hoomd.md.pair.LJ(nlist=cell)\n",
        "LJ_xplor.params[(\"A\", \"A\")] = dict(epsilon=epsilon, sigma=sigma)\n",
        "LJ_xplor.r_cut[(\"A\", \"A\")] = 2.0\n",
        "LJ_xplor.mode = \"xplor\"\n",
        "\n",
        "integrator.forces = [LJ_cut,LJ_shift,LJ_xplor]\n",
        "\n",
        "\n",
        "simulation = hoomd.Simulation(device=hoomd.device.auto_select())\n",
        "simulation.operations.integrator = integrator\n",
        "\n",
        "simulation.create_state_from_snapshot(frame)\n",
        "\n",
        "\n",
        "measured_energy_shift = []\n",
        "measured_forces_shift = []\n",
        "measured_energy_cut = []\n",
        "measured_forces_cut = []\n",
        "measured_energy_xplor = []\n",
        "measured_forces_xplor = []\n",
        "for a in r:\n",
        "    snapshot = simulation.state.get_snapshot()\n",
        "    snapshot.particles.position[1] = ...\n",
        "    simulation.state.set_snapshot(snapshot)\n",
        "\n",
        "    simulation.run(0)\n",
        "\n",
        "    measured_energy_shift.append(...)\n",
        "    # add all other arrays\n",
        "\n",
        "# plot results and compare\n",
        "...\n",
        "matplotlib.pyplot.show()"
      ]
    },
    {
      "cell_type": "markdown",
      "id": "432e4542-c95f-46c1-8ebd-7bc863f6adbe",
      "metadata": {
        "id": "432e4542-c95f-46c1-8ebd-7bc863f6adbe"
      },
      "source": [
        "## Asakura Oosawa model\n",
        "\n",
        "Volume fraction of depletant is given by $\\phi_d = \\frac{\\pi}{6}\\sigma_d^3\\rho_d$, and the AO potential is given by:\n",
        "\n",
        "\\begin{equation}\n",
        "U_{\\mathrm{AO}}(r)= \\begin{cases}\\infty & \\text { for } \\quad r \\leq \\sigma_{\\mathrm{c}} \\\\ -\\phi_d\\left(\\frac{1+q}{q}\\right)^3\\left[1-\\frac{3 r}{2 \\sigma_{\\mathrm{c}}(1+q)}+\\frac{r^3}{2 \\sigma_{\\mathrm{c}}^3(1+q)^3}\\right] & \\text { for } \\quad \\sigma_{\\mathrm{c}}<r<\\sigma_{\\mathrm{c}}+\\sigma_{\\mathrm{p}} \\\\ 0 & \\text { for } \\quad r \\geq \\sigma_{\\mathrm{c}}+\\sigma_{\\mathrm{p}}\\end{cases}\n",
        "\\end{equation}\n",
        "\n",
        "Implement two functions that return the potential and the force based on the AO model:"
      ]
    },
    {
      "cell_type": "code",
      "execution_count": null,
      "id": "19cad979-8407-4a19-aef3-d7e7fec9a44c",
      "metadata": {
        "id": "19cad979-8407-4a19-aef3-d7e7fec9a44c"
      },
      "outputs": [],
      "source": [
        "def ao_potential(r, sigma_c, sigma_d, phi_d):\n",
        "    # add code here\n",
        "    ...\n",
        "    return U_AO\n",
        "\n",
        "def ao_force(r, sigma_c, sigma_d, phi_d):\n",
        "    # add code here\n",
        "    ...\n",
        "    return F_AO"
      ]
    },
    {
      "cell_type": "markdown",
      "id": "974ea783-2c05-401e-a8d8-182c34609f3a",
      "metadata": {
        "id": "974ea783-2c05-401e-a8d8-182c34609f3a"
      },
      "source": [
        "Hoomd does not have the AO potential implemented. For such cases, hoomd allows the user to use a [tabulated definition](https://hoomd-blue.readthedocs.io/en/stable/hoomd/md/pair/table.html) of the potential and the force. This is very useful for nummerical potentials that might arise for various coarse-graining schemes, as well as for testing out different models that are not implemented in hoomd. Hoomd interpolates between the given points in the table:"
      ]
    },
    {
      "cell_type": "code",
      "execution_count": null,
      "id": "1ad32cff-e09c-4330-800e-762234d747c3",
      "metadata": {
        "id": "1ad32cff-e09c-4330-800e-762234d747c3"
      },
      "outputs": [],
      "source": [
        "sigma_c = 5\n",
        "sigma_d = 1\n",
        "phi_d = 0.4\n",
        "\n",
        "frame = gsd.hoomd.Frame()\n",
        "frame.particles.N = 2\n",
        "frame.particles.position = [[0,0,0],[3.0,0,0]]\n",
        "frame.configuration.box = [30, 30, 30, 0, 0, 0]\n",
        "frame.particles.types = ['A']\n",
        "\n",
        "integrator = hoomd.md.Integrator(dt=0)\n",
        "\n",
        "r_min = sigma_c-0.1\n",
        "r_cut = sigma_c+sigma_d\n",
        "\n",
        "cell = hoomd.md.nlist.Cell(buffer=0.4)\n",
        "r = numpy.linspace(r_min, r_cut, 100, endpoint=False)\n",
        "\n",
        "UAO = ao_potential(r, sigma_c, sigma_d, phi_d)\n",
        "FAO = ao_force(r,sigma_c,sigma_d,phi_d)\n",
        "\n",
        "table = hoomd.md.pair.Table(nlist=cell)\n",
        "table.params[(\"A\", \"A\")] = dict(r_min=r_min, U=UAO, F=FAO)\n",
        "table.r_cut[(\"A\", \"A\")] = r_cut\n",
        "integrator.forces = [table]\n",
        "\n",
        "simulation = hoomd.Simulation(device=hoomd.device.auto_select())\n",
        "simulation.operations.integrator = integrator\n",
        "simulation.create_state_from_snapshot(frame)\n",
        "\n",
        "# add code to loop over all distances and save the energy and force\n",
        "\n",
        "# add code to plot results\n",
        "matplotlib.pyplot.show()\n"
      ]
    },
    {
      "cell_type": "markdown",
      "id": "2eb3b310-9d84-4fd2-8348-8e8248ee6b86",
      "metadata": {
        "id": "2eb3b310-9d84-4fd2-8348-8e8248ee6b86"
      },
      "source": [
        "This potential and force is not continous, and is not suitable to run a MD simulation with. We could easily do MC simulations. The hard sphere potential cannot be simulated in MD, but is often approximated by the Weeks-Chandler-Anderson (WCA) potential. The WCA potential is a LJ potential that got tunkated at the LJ minium $2^{1/6}\\sigma$  and shifted up to zero. We can replace the HS part in the AO model with a WCA (also see [Statt, A., Virnau, P., & Binder, K. (2015). Crystal nuclei in melts: a Monte Carlo simulation of a model for attractive colloids. Molecular Physics, 113(17–18), 2556–2570](https://www.tandfonline.com/doi/pdf/10.1080/00268976.2015.1042937)):\n",
        "\n",
        "\\begin{equation}\n",
        "U_\\mathrm{rep}(r)=  4\\left[\\left(\\frac{b \\sigma_c}{r-\\epsilon \\sigma_c}\\right)^{12}+\\left(\\frac{b \\sigma_c}{r-\\epsilon \\sigma_c}\\right)^6-\\left(\\frac{b \\sigma_c}{\\sigma_c+q-\\epsilon \\sigma_c}\\right)^{12}-\\left(\\frac{b \\sigma_c}{\\sigma_c+q-\\epsilon \\sigma_c}\\right)^6\\right]\n",
        "\\end{equation}\n",
        "\n",
        "Then, the interaction is given by the attractive AO part and this new repulsive part: $U_\\mathrm{AO,attractive}+U_\\mathrm{rep}$.\n",
        "Here, we have introduced some more paramters to adjust the repulsive part of the potential, namely $b$ and $\\epsilon$. As in the reference, let's use $b=0.01$ and $\\epsilon=0.98857 $, which results in $U_\\mathrm{softAO}(r=\\sigma_c)=1$.\n",
        "\n",
        "Implement this new potential and the force:"
      ]
    },
    {
      "cell_type": "code",
      "execution_count": null,
      "id": "44763a15-16ac-40bf-9e9c-8e5feb0e2cee",
      "metadata": {
        "id": "44763a15-16ac-40bf-9e9c-8e5feb0e2cee"
      },
      "outputs": [],
      "source": [
        "def soft_ao_potential(r, sigma_c, sigma_d, phi_d,b,epsilon):\n",
        "    # add code\n",
        "    ...\n",
        "    return U_AO\n",
        "\n",
        "\n",
        "def soft_ao_force(r, sigma_c, sigma_d, phi_d,b,epsilon):\n",
        "    # add code\n",
        "    ...\n",
        "    return F_AO\n",
        "\n",
        "phi_d = 0.4  # volume fraction of depletant\n",
        "sigma_d = 1.0  # diamter of depletant\n",
        "sigma_c = 5.0  # diameter of colloids\n",
        "phi_c = 0.1  #volume fraction of colloids\n",
        "b = 0.01\n",
        "epsilon = 0.98857\n",
        "\n",
        "r_min = sigma_c-0.1\n",
        "r_cut = sigma_c+sigma_d\n",
        "\n",
        "r = numpy.linspace(r_min, r_cut, 100, endpoint=False)\n",
        "\n",
        "fig, ax = matplotlib.pyplot.subplots(2,1,sharex=True)\n",
        "# add code to plot both the AO model and the \"soft AO\" model potential and force\n",
        "\n",
        "matplotlib.pyplot.show()"
      ]
    },
    {
      "cell_type": "markdown",
      "id": "5341999f-01f3-4d8c-b044-b2bba26f3d83",
      "metadata": {
        "id": "5341999f-01f3-4d8c-b044-b2bba26f3d83"
      },
      "source": [
        "Now we can run a small test simulation with this soft AO model. Here, we are making the $z$ direction of the box $L_z$ longer, so that if we get phase coexistence, we get the liquid phase to orient in that direction. This is sometimes called \"direct coexistence\" method. We will learn (soon!) the details of how to run a proper Langevin simulation:"
      ]
    },
    {
      "cell_type": "code",
      "execution_count": null,
      "id": "766ce291-f07d-4592-bbfa-b24bec96b438",
      "metadata": {
        "id": "766ce291-f07d-4592-bbfa-b24bec96b438"
      },
      "outputs": [],
      "source": [
        "phi_d = 0.4  # volume fraction of depletant\n",
        "sigma_d = 1.0  # diamter of depletant\n",
        "sigma_c = 5.0  # diameter of colloids\n",
        "phi_c = 0.2  #volume fraction of colloids\n",
        "b = 0.01\n",
        "epsilon = 0.98857\n",
        "\n",
        "frame = gsd.hoomd.Frame()\n",
        "L = 38\n",
        "Lz = 2*L\n",
        "N  = phi_c*L*L*Lz*6/(numpy.pi*sigma_c**3)\n",
        "\n",
        "x = numpy.arange(-0.5*L, 0.5*L-sigma_c, sigma_c+0.1)\n",
        "position = list(itertools.product(x, repeat=3))\n",
        "N = numpy.round(N).astype(int)\n",
        "\n",
        "frame.particles.N = N\n",
        "frame.particles.position = position[0:N]\n",
        "\n",
        "frame.configuration.box = [L, L, Lz, 0, 0, 0]\n",
        "frame.particles.types = ['A']\n",
        "\n",
        "integrator = hoomd.md.Integrator(dt=0.001)\n",
        "\n",
        "r_min = sigma_c-0.05\n",
        "r_cut = sigma_c+sigma_d\n",
        "cell = hoomd.md.nlist.Cell(buffer=0.4)\n",
        "r = numpy.linspace(r_min, r_cut, 1000, endpoint=False)\n",
        "\n",
        "# add code to add the new tabulated potential and force to the hoomd simulation\n",
        "...\n",
        "\n",
        "simulation = hoomd.Simulation(device=hoomd.device.auto_select(),seed=42)\n",
        "simulation.operations.integrator = integrator\n",
        "simulation.create_state_from_snapshot(frame)\n",
        "\n",
        "simulation.state.thermalize_particle_momenta(filter=hoomd.filter.All(), kT=1.0)\n",
        "\n",
        "nvt = hoomd.md.methods.Langevin(\n",
        "    filter=hoomd.filter.All(), kT=1.0\n",
        ")\n",
        "integrator.methods.append(nvt)\n",
        "\n",
        "simulation.run(500_000)\n",
        "snapshot = simulation.state.get_snapshot()"
      ]
    },
    {
      "cell_type": "markdown",
      "id": "090974ab-f2be-4680-8992-dd000d2cdc50",
      "metadata": {
        "id": "090974ab-f2be-4680-8992-dd000d2cdc50"
      },
      "source": [
        "To see what happened, we can compute a histogram in $z$ direction, which should show if we have one fluid or two phases. Get the $z$ positions from the `snapshot.particles.position` array. Then create a `numpy.histogram`, which you should normalize to get volume fraction from counts. Then plot the result:"
      ]
    },
    {
      "cell_type": "code",
      "execution_count": null,
      "id": "326675ee-a2ac-49ae-a858-7a54faaf26bd",
      "metadata": {
        "id": "326675ee-a2ac-49ae-a858-7a54faaf26bd"
      },
      "outputs": [],
      "source": [
        "positions_z = ...\n",
        "hist , edges = numpy.histogram(positions_z, bins=L, range=(-L,+L))\n",
        "\n",
        "center =  (edges[1:] + edges[:-1])/2\n",
        "# normalize\n",
        "hist = hist/...\n",
        "\n",
        "fig,ax = matplotlib.pyplot.subplots(1,1)\n",
        "ax.plot(center,hist)\n",
        "ax.set_xlabel(r\"$L_z[\\sigma]$\")\n",
        "ax.set_ylabel(r\"$\\phi_c$\")\n",
        "matplotlib.pyplot.show()\n"
      ]
    }
  ],
  "metadata": {
    "colab": {
      "provenance": []
    },
    "kernelspec": {
      "display_name": "Python 3 (ipykernel)",
      "language": "python",
      "name": "python3"
    },
    "language_info": {
      "codemirror_mode": {
        "name": "ipython",
        "version": 3
      },
      "file_extension": ".py",
      "mimetype": "text/x-python",
      "name": "python",
      "nbconvert_exporter": "python",
      "pygments_lexer": "ipython3",
      "version": "3.10.13"
    }
  },
  "nbformat": 4,
  "nbformat_minor": 5
}